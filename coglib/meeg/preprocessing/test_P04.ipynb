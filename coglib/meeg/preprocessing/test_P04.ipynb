{
 "cells": [
  {
   "cell_type": "code",
   "execution_count": 12,
   "metadata": {},
   "outputs": [],
   "source": [
    "import os.path as op\n",
    "import os\n",
    "import matplotlib.pyplot as plt\n",
    "import shutil\n",
    "import json\n",
    "import numpy as np\n",
    "import pandas as pd\n",
    "\n",
    "from fpdf import FPDF\n",
    "from mne.preprocessing import read_ica\n",
    "import mne_bids\n",
    "import sys\n",
    "\n",
    "import mne\n",
    "import matplotlib.pyplot as plt\n",
    "import mne_bids"
   ]
  },
  {
   "cell_type": "code",
   "execution_count": 2,
   "metadata": {},
   "outputs": [],
   "source": [
    "subject_id=\"CB040\"\n",
    "visit_id=\"1\"\n",
    "bids_root=\"/headnode1/abry4213/data/Cogitate_MEG_challenge\"\n",
    "record=\"run\"\n",
    "has_eeg=False"
   ]
  },
  {
   "cell_type": "code",
   "execution_count": 3,
   "metadata": {},
   "outputs": [
    {
     "name": "stdout",
     "output_type": "stream",
     "text": [
      "Processing subject: CB040\n"
     ]
    }
   ],
   "source": [
    "# Prepare PDF report\n",
    "pdf = FPDF(orientation=\"P\", unit=\"mm\", format=\"A4\")\n",
    "\n",
    "# Set path to preprocessing derivatives\n",
    "prep_deriv_root = op.join(bids_root, \"derivatives\", \"preprocessing\")\n",
    "prep_figure_root =  op.join(prep_deriv_root,\n",
    "                            f\"sub-{subject_id}\",f\"ses-{visit_id}\",\"meg\",\n",
    "                            \"figures\")\n",
    "prep_report_root =  op.join(prep_deriv_root,\n",
    "                            f\"sub-{subject_id}\",f\"ses-{visit_id}\",\"meg\",\n",
    "                            \"reports\")\n",
    "prep_code_root = op.join(prep_deriv_root,\n",
    "                            f\"sub-{subject_id}\",f\"ses-{visit_id}\",\"meg\",\n",
    "                            \"codes\")\n",
    "\n",
    "print(\"Processing subject: %s\" % subject_id)"
   ]
  },
  {
   "cell_type": "code",
   "execution_count": 5,
   "metadata": {},
   "outputs": [
    {
     "name": "stdout",
     "output_type": "stream",
     "text": [
      "Processing subject: CB040\n",
      "  Run: 01\n"
     ]
    }
   ],
   "source": [
    "print(\"Processing subject: %s\" % subject_id)\n",
    "\n",
    "data_path = os.path.join(bids_root,f\"sub-{subject_id}\",f\"ses-{visit_id}\",\"meg\")\n",
    "\n",
    "fname = bids_root + f\"sub-{subject_id}/ses-1/meg/sub-{subject_id}_ses-{visit_id}_task-dur_run-01_meg.json\"\n",
    "\n",
    "if \"run\" in fname:\n",
    "    run = fname.split(\"run-\")[1].split(\"_\")[0]\n",
    "elif \"rest\" in fname:\n",
    "    run = None\n",
    "print(\"  Run: %s\" % run)\n",
    "\n",
    "# Set task\n",
    "if 'dur' in fname:\n",
    "    bids_task = 'dur'\n",
    "elif 'vg' in fname:\n",
    "    bids_task = 'vg'\n",
    "elif 'replay' in fname:\n",
    "    bids_task = 'replay'\n",
    "elif \"rest\" in fname:\n",
    "    bids_task = \"rest\"\n",
    "else:\n",
    "    raise ValueError(\"Error: could not find the task for %s\" % fname)"
   ]
  },
  {
   "cell_type": "code",
   "execution_count": 6,
   "metadata": {},
   "outputs": [
    {
     "name": "stdout",
     "output_type": "stream",
     "text": [
      "Opening raw data file /headnode1/abry4213/data/Cogitate_MEG_challenge/derivatives/preprocessing/sub-CB040/ses-1/meg/sub-CB040_ses-1_task-dur_run-01_annot.fif...\n"
     ]
    },
    {
     "name": "stderr",
     "output_type": "stream",
     "text": [
      "/tmp/ipykernel_29731/1032540291.py:14: RuntimeWarning: This filename (/headnode1/abry4213/data/Cogitate_MEG_challenge/derivatives/preprocessing/sub-CB040/ses-1/meg/sub-CB040_ses-1_task-dur_run-01_annot.fif) does not conform to MNE naming conventions. All raw files should end with raw.fif, raw_sss.fif, raw_tsss.fif, _meg.fif, _eeg.fif, _ieeg.fif, raw.fif.gz, raw_sss.fif.gz, raw_tsss.fif.gz, _meg.fif.gz, _eeg.fif.gz or _ieeg.fif.gz\n",
      "  raw = mne_bids.read_raw_bids(bids_path_annot).load_data()\n"
     ]
    },
    {
     "name": "stdout",
     "output_type": "stream",
     "text": [
      "    Range : 10000 ... 848999 =     10.000 ...   848.999 secs\n",
      "Ready.\n",
      "Reading 0 ... 838999  =      0.000 ...   838.999 secs...\n"
     ]
    },
    {
     "name": "stderr",
     "output_type": "stream",
     "text": [
      "/tmp/ipykernel_29731/1032540291.py:14: RuntimeWarning: Did not find any events.tsv associated with sub-CB040_ses-1_task-dur_run-01.\n",
      "\n",
      "The search_str was \"/headnode1/abry4213/data/Cogitate_MEG_challenge/derivatives/preprocessing/sub-CB040/**/meg/sub-CB040_ses-1*events.tsv\"\n",
      "  raw = mne_bids.read_raw_bids(bids_path_annot).load_data()\n",
      "/tmp/ipykernel_29731/1032540291.py:14: RuntimeWarning: Did not find any channels.tsv associated with sub-CB040_ses-1_task-dur_run-01.\n",
      "\n",
      "The search_str was \"/headnode1/abry4213/data/Cogitate_MEG_challenge/derivatives/preprocessing/sub-CB040/**/meg/sub-CB040_ses-1*channels.tsv\"\n",
      "  raw = mne_bids.read_raw_bids(bids_path_annot).load_data()\n",
      "/tmp/ipykernel_29731/1032540291.py:14: RuntimeWarning: Did not find any meg.json associated with sub-CB040_ses-1_task-dur_run-01.\n",
      "\n",
      "The search_str was \"/headnode1/abry4213/data/Cogitate_MEG_challenge/derivatives/preprocessing/sub-CB040/**/meg/sub-CB040_ses-1*meg.json\"\n",
      "  raw = mne_bids.read_raw_bids(bids_path_annot).load_data()\n",
      "/tmp/ipykernel_29731/1032540291.py:14: RuntimeWarning: participants.tsv file not found for /headnode1/abry4213/data/Cogitate_MEG_challenge/derivatives/preprocessing/sub-CB040/ses-1/meg/sub-CB040_ses-1_task-dur_run-01_annot.fif\n",
      "  raw = mne_bids.read_raw_bids(bids_path_annot).load_data()\n"
     ]
    }
   ],
   "source": [
    "# Set BIDS path\n",
    "bids_path_annot = mne_bids.BIDSPath(\n",
    "    root=prep_deriv_root, \n",
    "    subject=subject_id,  \n",
    "    datatype='meg',  \n",
    "    task=bids_task,\n",
    "    run=run,\n",
    "    session=visit_id, \n",
    "    suffix='annot',\n",
    "    extension='.fif',\n",
    "    check=False)\n",
    "\n",
    "# Read raw data\n",
    "raw = mne_bids.read_raw_bids(bids_path_annot).load_data()"
   ]
  },
  {
   "cell_type": "code",
   "execution_count": 11,
   "metadata": {},
   "outputs": [
    {
     "name": "stdout",
     "output_type": "stream",
     "text": [
      "2067 events found on stim channel STI101\n",
      "Event IDs: [  1   2   3   4   6   7   8   9  10  11  12  13  14  15  16  17  18  19\n",
      "  20  21  22  23  24  25  26  27  28  29  30  31  32  33  34  35  36  38\n",
      "  39  40  41  42  43  44  45  46  47  48  49  50  51  52  53  54  55  56\n",
      "  57  58  59  60  61  62  63  64  65  66  67  68  69  70  71  72  73  74\n",
      "  75  76  77  78  79  80  86  96  97 101 102 103 111 112 113 114 115 116\n",
      " 117 118 119 120 121 122 123 124 125 126 127 128 129 130 131 132 133 134\n",
      " 135 136 137 138 139 140 141 142 143 144 145 146 147 148 151 152 153 161\n",
      " 162 163 164 165 166 167 168 201 202 203 255]\n",
      "2051 events found on stim channel STI101\n",
      "Event IDs: [  1   2   3   4   6   7   8   9  10  11  12  13  14  15  16  17  18  19\n",
      "  20  21  22  23  24  25  26  27  28  29  30  31  32  33  34  35  36  38\n",
      "  39  40  41  42  43  44  45  46  47  48  49  50  51  52  53  54  55  56\n",
      "  57  58  59  60  61  62  63  64  65  66  67  68  69  70  71  72  73  74\n",
      "  75  76  77  78  79  80  86  96  97 101 102 103 111 112 113 114 115 116\n",
      " 117 118 119 120 121 122 123 124 125 126 127 128 129 130 131 132 133 134\n",
      " 135 136 137 138 139 140 141 142 143 144 145 146 147 148 151 152 153 161\n",
      " 162 163 164 165 166 167 168 201 202 203 255]\n"
     ]
    }
   ],
   "source": [
    "# Find response events\n",
    "response = mne.find_events(raw,\n",
    "                            stim_channel='STI101',\n",
    "                            consecutive = False,\n",
    "                            mask = 65280,\n",
    "                            mask_type = 'not_and'\n",
    "                        )\n",
    "response = response[response[:,2] == 255]\n",
    "\n",
    "# Find all other events\n",
    "events = mne.find_events(raw,\n",
    "                            stim_channel='STI101',\n",
    "                            consecutive = True,\n",
    "                            min_duration=0.001001,\n",
    "                            mask = 65280,\n",
    "                            mask_type = 'not_and'\n",
    "                        )\n",
    "events = events[events[:,2] != 255]\n",
    "\n",
    "# Concatenate all events\n",
    "events = np.concatenate([response,events],axis = 0)\n",
    "events = events[events[:,0].argsort(),:]"
   ]
  },
  {
   "cell_type": "code",
   "execution_count": 20,
   "metadata": {},
   "outputs": [
    {
     "ename": "IndexError",
     "evalue": "list index out of range",
     "output_type": "error",
     "traceback": [
      "\u001b[0;31m---------------------------------------------------------------------------\u001b[0m",
      "\u001b[0;31mIndexError\u001b[0m                                Traceback (most recent call last)",
      "Cell \u001b[0;32mIn[20], line 18\u001b[0m\n\u001b[1;32m     15\u001b[0m \u001b[38;5;28;01mfor\u001b[39;00m i \u001b[38;5;129;01min\u001b[39;00m \u001b[38;5;28mrange\u001b[39m(eve\u001b[38;5;241m.\u001b[39mshape[\u001b[38;5;241m0\u001b[39m]):\n\u001b[1;32m     16\u001b[0m     \u001b[38;5;28;01mif\u001b[39;00m eve[i, \u001b[38;5;241m2\u001b[39m] \u001b[38;5;241m<\u001b[39m \u001b[38;5;241m81\u001b[39m:\n\u001b[1;32m     17\u001b[0m     \u001b[38;5;66;03m##find the end of each trial (trigger 97)\u001b[39;00m\n\u001b[0;32m---> 18\u001b[0m         time \u001b[38;5;241m=\u001b[39m \u001b[43m[\u001b[49m\u001b[43mt\u001b[49m\u001b[43m \u001b[49m\u001b[38;5;28;43;01mfor\u001b[39;49;00m\u001b[43m \u001b[49m\u001b[43mt\u001b[49m\u001b[43m,\u001b[49m\u001b[43m \u001b[49m\u001b[43mj\u001b[49m\u001b[43m \u001b[49m\u001b[38;5;129;43;01min\u001b[39;49;00m\u001b[43m \u001b[49m\u001b[38;5;28;43menumerate\u001b[39;49m\u001b[43m(\u001b[49m\u001b[43meve\u001b[49m\u001b[43m[\u001b[49m\u001b[43mi\u001b[49m\u001b[43m:\u001b[49m\u001b[43mi\u001b[49m\u001b[43m \u001b[49m\u001b[38;5;241;43m+\u001b[39;49m\u001b[43m \u001b[49m\u001b[38;5;241;43m9\u001b[39;49m\u001b[43m,\u001b[49m\u001b[43m \u001b[49m\u001b[38;5;241;43m2\u001b[39;49m\u001b[43m]\u001b[49m\u001b[43m)\u001b[49m\u001b[43m \u001b[49m\u001b[38;5;28;43;01mif\u001b[39;49;00m\u001b[43m \u001b[49m\u001b[43mj\u001b[49m\u001b[43m \u001b[49m\u001b[38;5;241;43m==\u001b[39;49m\u001b[43m \u001b[49m\u001b[38;5;241;43m97\u001b[39;49m\u001b[43m]\u001b[49m\u001b[43m[\u001b[49m\u001b[38;5;241;43m0\u001b[39;49m\u001b[43m]\u001b[49m\n\u001b[1;32m     19\u001b[0m         metadata\u001b[38;5;241m.\u001b[39mloc[k][\u001b[38;5;124m'\u001b[39m\u001b[38;5;124mStim_trigger\u001b[39m\u001b[38;5;124m'\u001b[39m] \u001b[38;5;241m=\u001b[39m eve[i,\u001b[38;5;241m2\u001b[39m]\n\u001b[1;32m     20\u001b[0m         metadata\u001b[38;5;241m.\u001b[39mloc[k][\u001b[38;5;124m'\u001b[39m\u001b[38;5;124mCategory\u001b[39m\u001b[38;5;124m'\u001b[39m] \u001b[38;5;241m=\u001b[39m Category[\u001b[38;5;28mint\u001b[39m((eve[i,\u001b[38;5;241m2\u001b[39m]\u001b[38;5;241m-\u001b[39m\u001b[38;5;241m1\u001b[39m)\u001b[38;5;241m/\u001b[39m\u001b[38;5;241m/\u001b[39m\u001b[38;5;241m20\u001b[39m)]\n",
      "\u001b[0;31mIndexError\u001b[0m: list index out of range"
     ]
    }
   ],
   "source": [
    "eve = events.copy()\n",
    "events = eve[eve[:, 2] < 81].copy()\n",
    "metadata = {}\n",
    "metadata = pd.DataFrame(metadata, index=np.arange(len(events)),\n",
    "                        columns=['Stim_trigger', 'Category',\n",
    "                                    'Orientation', 'Duration',\n",
    "                                    'Task_relevance', 'Trial_ID',\n",
    "                                    'Response', 'Response_time(s)'])\n",
    "Category = ['face', 'object', 'letter', 'false']\n",
    "Orientation = ['Center', 'Left', 'Right']\n",
    "Duration = ['500ms', '1000ms', '1500ms']\n",
    "Relevance = ['Relevant target', 'Relevant non-target', 'Irrelevant']\n",
    "k = 0\n",
    "\n",
    "for i in range(eve.shape[0]):\n",
    "    if eve[i, 2] < 81:\n",
    "    ##find the end of each trial (trigger 97)\n",
    "        time = [t for t, j in enumerate(eve[i:i + 9, 2]) if j == 97][0]\n",
    "        metadata.loc[k]['Stim_trigger'] = eve[i,2]\n",
    "        metadata.loc[k]['Category'] = Category[int((eve[i,2]-1)//20)]\n",
    "        metadata.loc[k]['Orientation'] = Orientation[[j-100 for j in eve[i:i+time,2]\n",
    "                                                        if j in [101,102,103]][0]-1]\n",
    "        metadata.loc[k]['Duration'] = Duration[[j-150 for j in eve[i:i+time,2]\n",
    "                                                if j in [151,152,153]][0]-1]\n",
    "        metadata.loc[k]['Task_relevance'] = Relevance[[j-200 for j in eve[i:i+time,2]\n",
    "                                                        if j in [201,202,203]][0]-1]\n",
    "        metadata.loc[k]['Trial_ID'] = [j for j in eve[i:i+time,2]\n",
    "                                        if (j>110) and (j<149)][0]\n",
    "        metadata.loc[k]['Response'] = True if any(eve[i:i+time,2] == 255) else False\n",
    "        if metadata.loc[k]['Response'] == True:\n",
    "            r = [r for r,j in enumerate(eve[i:i+time,2]) if j == 255][0]\n",
    "            metadata.loc[k]['Response_time(s)'] = (eve[i+r,0] - eve[i,0])\n",
    "        # miniblock = [j for j in eve[i:i+t,2] if (j>160) and (j<201)]\n",
    "        # metadata.loc[k]['Miniblock_ID'] = miniblock[0] if miniblock != [] else np.nan\n",
    "        k += 1\n"
   ]
  },
  {
   "cell_type": "code",
   "execution_count": 25,
   "metadata": {},
   "outputs": [
    {
     "data": {
      "text/plain": [
       "[74, 39, 20, 47, 42, 74, 20, 74, 41]"
      ]
     },
     "execution_count": 25,
     "metadata": {},
     "output_type": "execute_result"
    }
   ],
   "source": [
    "\n",
    "[j for t, j in enumerate(eve[i:i + 9, 2])]"
   ]
  }
 ],
 "metadata": {
  "kernelspec": {
   "display_name": "Python 3",
   "language": "python",
   "name": "python3"
  },
  "language_info": {
   "codemirror_mode": {
    "name": "ipython",
    "version": 3
   },
   "file_extension": ".py",
   "mimetype": "text/x-python",
   "name": "python",
   "nbconvert_exporter": "python",
   "pygments_lexer": "ipython3",
   "version": "3.9.7"
  }
 },
 "nbformat": 4,
 "nbformat_minor": 2
}
